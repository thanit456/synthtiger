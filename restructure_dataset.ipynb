{
 "cells": [
  {
   "cell_type": "code",
   "execution_count": 1,
   "metadata": {},
   "outputs": [],
   "source": [
    "import os \n",
    "import glob \n",
    "import shutil \n",
    "import pandas as pd \n",
    "from tqdm.notebook import tqdm "
   ]
  },
  {
   "cell_type": "code",
   "execution_count": 2,
   "metadata": {},
   "outputs": [
    {
     "data": {
      "application/vnd.jupyter.widget-view+json": {
       "model_id": "2242d4f9e78040628b233420e23b4a7f",
       "version_major": 2,
       "version_minor": 0
      },
      "text/plain": [
       "  0%|          | 0/1000000 [00:00<?, ?it/s]"
      ]
     },
     "metadata": {},
     "output_type": "display_data"
    }
   ],
   "source": [
    "os.makedirs('prepared_dataset/my_banks_v5', exist_ok=True)\n",
    "os.makedirs('prepared_dataset/my_banks_v5_val', exist_ok=True)\n",
    "\n",
    "for path in tqdm(glob.glob('dataset/my-banks-v5/images/*/*.jpg')):\n",
    "    splitted = path.split('/')\n",
    "    folder_idx = splitted[-2]\n",
    "    img_name = splitted[-1]\n",
    "\n",
    "    if folder_idx == '0': \n",
    "        saved_path = '/'.join(['prepared_dataset', 'my_banks_v5_val', f'{folder_idx}_{img_name}'])\n",
    "    else:\n",
    "        saved_path = '/'.join(['prepared_dataset', 'my_banks_v5', f'{folder_idx}_{img_name}'])\n",
    "        \n",
    "    shutil.copyfile(path, saved_path)"
   ]
  },
  {
   "cell_type": "code",
   "execution_count": 3,
   "metadata": {},
   "outputs": [],
   "source": [
    "with open('dataset/my-banks-v5/gt.txt') as f:\n",
    "    lines = f.readlines()\n",
    "\n",
    "lines = [e.strip() for e in lines]\n",
    "filenames = ['_'.join(e.split('\\t')[0].split('/')[-2:]) for e in lines]\n",
    "words = [e.split('\\t')[1] for e in lines]"
   ]
  },
  {
   "cell_type": "code",
   "execution_count": 4,
   "metadata": {},
   "outputs": [],
   "source": [
    "train_filenames = []\n",
    "train_words = [] \n",
    "val_filenames = []\n",
    "val_words = [] \n",
    "\n",
    "for filename, word in zip(filenames, words):\n",
    "    if filename.split('_')[0] == '0': \n",
    "        val_filenames.append(filename)\n",
    "        val_words.append(word)        \n",
    "    else:\n",
    "        train_filenames.append(filename)\n",
    "        train_words.append(word)"
   ]
  },
  {
   "cell_type": "code",
   "execution_count": 5,
   "metadata": {},
   "outputs": [],
   "source": [
    "train_df = pd.DataFrame({\n",
    "    'filename': train_filenames, \n",
    "    'words': train_words \n",
    "})\n",
    "\n",
    "val_df = pd.DataFrame({\n",
    "    'filename': val_filenames, \n",
    "    'words': val_words \n",
    "})"
   ]
  },
  {
   "cell_type": "code",
   "execution_count": 6,
   "metadata": {},
   "outputs": [],
   "source": [
    "train_df.to_csv('prepared_dataset/my_banks_v5/labels.csv', index=False)\n",
    "val_df.to_csv('prepared_dataset/my_banks_v5_val/labels.csv', index=False)"
   ]
  },
  {
   "cell_type": "code",
   "execution_count": null,
   "metadata": {},
   "outputs": [],
   "source": []
  },
  {
   "cell_type": "code",
   "execution_count": null,
   "metadata": {},
   "outputs": [],
   "source": []
  }
 ],
 "metadata": {
  "interpreter": {
   "hash": "508e34ab420aab22d1aacadff292448b01828ca1e561fbc0629043f8b07a6e16"
  },
  "kernelspec": {
   "display_name": "Python 3",
   "language": "python",
   "name": "python3"
  },
  "language_info": {
   "codemirror_mode": {
    "name": "ipython",
    "version": 3
   },
   "file_extension": ".py",
   "mimetype": "text/x-python",
   "name": "python",
   "nbconvert_exporter": "python",
   "pygments_lexer": "ipython3",
   "version": "3.8.8"
  }
 },
 "nbformat": 4,
 "nbformat_minor": 4
}
